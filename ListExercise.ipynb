{
 "cells": [
  {
   "cell_type": "code",
   "execution_count": 15,
   "metadata": {},
   "outputs": [
    {
     "name": "stdout",
     "output_type": "stream",
     "text": [
      "Table\n",
      "Chair\n",
      "Sofa\n",
      "Shelf\n"
     ]
    }
   ],
   "source": [
    "#Exercise 1, 1 & 2\n",
    "furniture = [\"Table\",\"Chair\",\"Sofa\",\"Shelf\"]\n",
    "for furniture in furniture:\n",
    "    print(furniture)"
   ]
  },
  {
   "cell_type": "code",
   "execution_count": 26,
   "metadata": {},
   "outputs": [
    {
     "name": "stdout",
     "output_type": "stream",
     "text": [
      "Table\n",
      "Chair\n"
     ]
    }
   ],
   "source": [
    "#Exercise 1, 3\n",
    "furniture = [\"Table\",\"Chair\",\"Sofa\",\"Shelf\"]\n",
    "for item in furniture[:2]:\n",
    "    print(item)"
   ]
  },
  {
   "cell_type": "code",
   "execution_count": 28,
   "metadata": {},
   "outputs": [
    {
     "name": "stdout",
     "output_type": "stream",
     "text": [
      "Sofa found!\n"
     ]
    }
   ],
   "source": [
    "#Exercise 1, 4\n",
    "furniture = [\"Table\",\"Chair\",\"Sofa\",\"Shelf\"]\n",
    "for item in furniture:\n",
    "    if item == \"Sofa\":\n",
    "        print(\"Sofa found!\")\n"
   ]
  },
  {
   "cell_type": "code",
   "execution_count": 1,
   "metadata": {},
   "outputs": [
    {
     "name": "stdout",
     "output_type": "stream",
     "text": [
      "2\n",
      "3\n",
      "4\n",
      "4\n",
      "2\n"
     ]
    }
   ],
   "source": [
    "#Exercise 2,  1,2 ja 3\n",
    "from random import randint\n",
    "thrownDiceNumbers = [randint(0, 5) for _ in range(5)]\n",
    "for thrownDiceNumbers in thrownDiceNumbers:\n",
    "    print(thrownDiceNumbers)\n"
   ]
  },
  {
   "cell_type": "code",
   "execution_count": 3,
   "metadata": {},
   "outputs": [
    {
     "name": "stdout",
     "output_type": "stream",
     "text": [
      "15\n"
     ]
    }
   ],
   "source": [
    "#Exercise 2, 4 \n",
    "thrownDiceNumbers = [2,3,4,4,2]\n",
    "total_sum = sum(thrownDiceNumbers)\n",
    "print(total_sum)"
   ]
  },
  {
   "cell_type": "code",
   "execution_count": 4,
   "metadata": {},
   "outputs": [
    {
     "name": "stdout",
     "output_type": "stream",
     "text": [
      "4\n"
     ]
    }
   ],
   "source": [
    "#Exercise 2, 5\n",
    "thrownDiceNumbers = [2,3,4,4,2]\n",
    "highest_value = max(thrownDiceNumbers)\n",
    "print(highest_value)"
   ]
  }
 ],
 "metadata": {
  "kernelspec": {
   "display_name": "Python 3",
   "language": "python",
   "name": "python3"
  },
  "language_info": {
   "codemirror_mode": {
    "name": "ipython",
    "version": 3
   },
   "file_extension": ".py",
   "mimetype": "text/x-python",
   "name": "python",
   "nbconvert_exporter": "python",
   "pygments_lexer": "ipython3",
   "version": "3.12.0"
  }
 },
 "nbformat": 4,
 "nbformat_minor": 2
}
