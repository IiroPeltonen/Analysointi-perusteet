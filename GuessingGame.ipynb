{
 "cells": [
  {
   "cell_type": "code",
   "execution_count": null,
   "metadata": {},
   "outputs": [],
   "source": []
  },
  {
   "cell_type": "code",
   "execution_count": 5,
   "metadata": {},
   "outputs": [
    {
     "name": "stdout",
     "output_type": "stream",
     "text": [
      "Incorrect, try again!\n",
      "Incorrect, try again!\n",
      "Incorrect, try again!\n",
      "Congratulations!\n"
     ]
    }
   ],
   "source": [
    "import random\n",
    "\n",
    "def guessing_game():\n",
    "    # List of possible names to guess\n",
    "    names_to_guess = [\"Mary\", \"John\", \"Tommi\"]\n",
    "\n",
    "    # random correct name\n",
    "    correct_name = random.choice(names_to_guess)\n",
    "\n",
    "    user_guess = \"\"\n",
    "\n",
    "    while user_guess.lower() != correct_name.lower():\n",
    "        user_guess = input(\"Please, guess my name: \")\n",
    "\n",
    "        if user_guess.lower() == correct_name.lower():\n",
    "            print(\"Congratulations!\")\n",
    "        else:\n",
    "            print(\"Incorrect, try again!\")\n",
    "if __name__ == \"__main__\":\n",
    "    guessing_game()\n"
   ]
  }
 ],
 "metadata": {
  "kernelspec": {
   "display_name": "Python 3",
   "language": "python",
   "name": "python3"
  },
  "language_info": {
   "codemirror_mode": {
    "name": "ipython",
    "version": 3
   },
   "file_extension": ".py",
   "mimetype": "text/x-python",
   "name": "python",
   "nbconvert_exporter": "python",
   "pygments_lexer": "ipython3",
   "version": "3.12.0"
  }
 },
 "nbformat": 4,
 "nbformat_minor": 2
}
