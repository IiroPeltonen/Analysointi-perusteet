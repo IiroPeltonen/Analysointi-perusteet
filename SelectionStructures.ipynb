{
 "cells": [
  {
   "cell_type": "code",
   "execution_count": 136,
   "metadata": {},
   "outputs": [],
   "source": [
    "number1 = 3\n",
    "number2 = 2\n",
    "number3 = 2"
   ]
  },
  {
   "cell_type": "code",
   "execution_count": 137,
   "metadata": {},
   "outputs": [],
   "source": [
    "#1a\n",
    "if number1 == number2:\n",
    " print(\"Numbers are equal\")"
   ]
  },
  {
   "cell_type": "code",
   "execution_count": 138,
   "metadata": {},
   "outputs": [
    {
     "name": "stdout",
     "output_type": "stream",
     "text": [
      "Number 1 is grater than number 2\n"
     ]
    }
   ],
   "source": [
    "#1b\n",
    "if number1 > number2:\n",
    "    print(\"Number 1 is grater than number 2\")"
   ]
  },
  {
   "cell_type": "code",
   "execution_count": 139,
   "metadata": {},
   "outputs": [
    {
     "name": "stdout",
     "output_type": "stream",
     "text": [
      "Number 1 is greater or equal to number 2\n"
     ]
    }
   ],
   "source": [
    "#1c\n",
    "if number1 >= number2:\n",
    "    print(\"Number 1 is greater or equal to number 2\")"
   ]
  },
  {
   "cell_type": "code",
   "execution_count": 140,
   "metadata": {},
   "outputs": [
    {
     "name": "stdout",
     "output_type": "stream",
     "text": [
      "Number 1 is NOT equal to number 2\n"
     ]
    }
   ],
   "source": [
    "#1d\n",
    "if number1 == number2:\n",
    "    print(\"Number 1 is equal to number 2\")\n",
    "else:\n",
    "    print(\"Number 1 is NOT equal to number 2\")"
   ]
  },
  {
   "cell_type": "code",
   "execution_count": 141,
   "metadata": {},
   "outputs": [],
   "source": [
    "#2a \n",
    "if number1 == number2 == number3:\n",
    "    print(\"Numbers 1, 2, 3 are equal\")"
   ]
  },
  {
   "cell_type": "code",
   "execution_count": 142,
   "metadata": {},
   "outputs": [
    {
     "name": "stdout",
     "output_type": "stream",
     "text": [
      "Number 1 and number 2 are equal OR number 2 and number 3 are equal\n"
     ]
    }
   ],
   "source": [
    "#2b\n",
    "if number1 == number2 or number2 == number3:\n",
    "    print(\"Number 1 and number 2 are equal OR number 2 and number 3 are equal\")\n"
   ]
  },
  {
   "cell_type": "code",
   "execution_count": 143,
   "metadata": {},
   "outputs": [
    {
     "name": "stdout",
     "output_type": "stream",
     "text": [
      "Number 1 is greater than number 2 AND number 1 is greater than number 3.\n"
     ]
    }
   ],
   "source": [
    "#2c\n",
    "if number1 > number2 and number1 > number3:\n",
    "    print(\"Number 1 is greater than number 2 AND number 1 is greater than number 3.\")"
   ]
  },
  {
   "cell_type": "code",
   "execution_count": 144,
   "metadata": {},
   "outputs": [
    {
     "name": "stdout",
     "output_type": "stream",
     "text": [
      "Number 1 is greater than number 2\n"
     ]
    }
   ],
   "source": [
    "#2d\n",
    "if number1 > number2:\n",
    "    print(\"Number 1 is greater than number 2\")\n",
    "elif number2 > number3:\n",
    "    print(\"Number 2 is greater than number 3\")\n",
    "    "
   ]
  },
  {
   "cell_type": "code",
   "execution_count": 145,
   "metadata": {},
   "outputs": [],
   "source": [
    "#2e\n",
    "if number1 == number2:\n",
    "    print(\"Number 1 is equal to number 2\")\n",
    "elif number1 == number3:\n",
    "    print(\"Number 1 is equal to number 3\")"
   ]
  },
  {
   "cell_type": "code",
   "execution_count": 146,
   "metadata": {},
   "outputs": [],
   "source": [
    "#2\n",
    "name1 = \"Jarmo\"\n",
    "name2 = \"Pekka\"\n",
    "name3 = \"Jarmo\""
   ]
  },
  {
   "cell_type": "code",
   "execution_count": 147,
   "metadata": {},
   "outputs": [],
   "source": [
    "#3A\n",
    "if name1 == name2:\n",
    "    print(\"Names are equal\")"
   ]
  },
  {
   "cell_type": "code",
   "execution_count": 148,
   "metadata": {},
   "outputs": [
    {
     "name": "stdout",
     "output_type": "stream",
     "text": [
      "Names are NOT equal\n"
     ]
    }
   ],
   "source": [
    "#3B\n",
    "if name1 == name2:\n",
    "    print(\"Names are equal\")\n",
    "else:\n",
    "    print(\"Names are NOT equal\")"
   ]
  },
  {
   "cell_type": "code",
   "execution_count": 149,
   "metadata": {},
   "outputs": [
    {
     "name": "stdout",
     "output_type": "stream",
     "text": [
      "Name 1 and name 3 are equal\n"
     ]
    }
   ],
   "source": [
    "#3C\n",
    "if name1 == name2:\n",
    "    print(\"Names are equal\")\n",
    "elif name1 == name3:\n",
    "    print(\"Name 1 and name 3 are equal\")"
   ]
  }
 ],
 "metadata": {
  "kernelspec": {
   "display_name": "Python 3",
   "language": "python",
   "name": "python3"
  },
  "language_info": {
   "codemirror_mode": {
    "name": "ipython",
    "version": 3
   },
   "file_extension": ".py",
   "mimetype": "text/x-python",
   "name": "python",
   "nbconvert_exporter": "python",
   "pygments_lexer": "ipython3",
   "version": "3.12.0"
  }
 },
 "nbformat": 4,
 "nbformat_minor": 2
}
